{
 "cells": [
  {
   "cell_type": "code",
   "execution_count": 46,
   "metadata": {},
   "outputs": [],
   "source": [
    "import pandas as pd\n",
    "import json"
   ]
  },
  {
   "cell_type": "code",
   "execution_count": 47,
   "metadata": {},
   "outputs": [],
   "source": [
    "from langchain_ollama import ChatOllama\n",
    "\n",
    "llm = ChatOllama(\n",
    "    model=\"llama3\",\n",
    "    temperature=0\n",
    ")"
   ]
  },
  {
   "cell_type": "code",
   "execution_count": 48,
   "metadata": {},
   "outputs": [
    {
     "data": {
      "text/plain": [
       "AIMessage(content='{\"recipes\": [\\n{\\n\"name\": \"Avocado Toast with Poached Eggs\",\\n\"ingredients\": [\"Whole wheat bread\", \"Mashed avocado\", \"Poached eggs\", \"Salt and pepper\"]\\n},\\n{\\n\"name\": \"Greek Yogurt Parfait with Granola and Berries\",\\n\"ingredients\": [\"Greek yogurt\", \"Granola\", \"Mixed berries\", \"Honey\"]\\n},\\n{\\n\"name\": \"Turkey Bacon and Spinach Omelette\",\\n\"ingredients\": [\"Eggs\", \"Turkey bacon\", \"Fresh spinach\", \"Salt and pepper\", \"Mozzarella cheese\"]\\n}\\n]}', additional_kwargs={}, response_metadata={'model': 'llama3', 'created_at': '2024-12-13T17:31:44.341474Z', 'done': True, 'done_reason': 'stop', 'total_duration': 16474243583, 'load_duration': 32886375, 'prompt_eval_count': 154, 'prompt_eval_duration': 4384000000, 'eval_count': 120, 'eval_duration': 12012000000, 'message': Message(role='assistant', content='', images=None, tool_calls=None)}, id='run-b83478bd-0c42-452e-9ebe-1ef71949c036-0', usage_metadata={'input_tokens': 154, 'output_tokens': 120, 'total_tokens': 274})"
      ]
     },
     "execution_count": 48,
     "metadata": {},
     "output_type": "execute_result"
    }
   ],
   "source": [
    "from langchain_core.messages import AIMessage\n",
    "\n",
    "messages = [\n",
    "    (\n",
    "        \"system\",\n",
    "        \"\"\"You are a helpful assistant that generates meal plans on request.\n",
    "        When giving Meals and their lists of ingredients, you always answer only in a json format\n",
    "\n",
    "        Example:\n",
    "        input: Give me 2 breakfast ideas\n",
    "        output:\n",
    "        {\"recipes\": [{\n",
    "        \"name\": \"Chicken Salad\",\n",
    "        \"ingredients\": [\"Chicken\", \"Spinach\", \"Tomatoes\", \"Bell peppers\"]\n",
    "        },\n",
    "        {\n",
    "        \"name\": \"Kimchi jjigae\",\n",
    "        \"ingredients\": [\"Kimchi\", \"Pork Belly\", \"Tofu\", \"Garlic\", \"Gochugaru\"]\n",
    "        }]}\n",
    "\"\"\",\n",
    "    ),\n",
    "    (\"human\", \"Give me three breakfasts with a protein content of 20g each\"),\n",
    "]\n",
    "ai_msg = llm.invoke(messages)\n",
    "ai_msg"
   ]
  },
  {
   "cell_type": "code",
   "execution_count": 61,
   "metadata": {},
   "outputs": [
    {
     "data": {
      "text/plain": [
       "{'recipes': [{'name': 'Avocado Toast with Poached Eggs',\n",
       "   'ingredients': ['Whole wheat bread',\n",
       "    'Mashed avocado',\n",
       "    'Poached eggs',\n",
       "    'Salt and pepper']},\n",
       "  {'name': 'Greek Yogurt Parfait with Granola and Berries',\n",
       "   'ingredients': ['Greek yogurt', 'Granola', 'Mixed berries', 'Honey']},\n",
       "  {'name': 'Turkey Bacon and Spinach Omelette',\n",
       "   'ingredients': ['Eggs',\n",
       "    'Turkey bacon',\n",
       "    'Fresh spinach',\n",
       "    'Salt and pepper',\n",
       "    'Mozzarella cheese']}]}"
      ]
     },
     "execution_count": 61,
     "metadata": {},
     "output_type": "execute_result"
    }
   ],
   "source": [
    "json_data = json.loads(ai_msg.content)\n",
    "json_data"
   ]
  },
  {
   "cell_type": "code",
   "execution_count": 63,
   "metadata": {},
   "outputs": [],
   "source": [
    "data = pd.DataFrame(json_data['recipes'])"
   ]
  },
  {
   "cell_type": "code",
   "execution_count": 64,
   "metadata": {},
   "outputs": [
    {
     "data": {
      "text/html": [
       "<div>\n",
       "<style scoped>\n",
       "    .dataframe tbody tr th:only-of-type {\n",
       "        vertical-align: middle;\n",
       "    }\n",
       "\n",
       "    .dataframe tbody tr th {\n",
       "        vertical-align: top;\n",
       "    }\n",
       "\n",
       "    .dataframe thead th {\n",
       "        text-align: right;\n",
       "    }\n",
       "</style>\n",
       "<table border=\"1\" class=\"dataframe\">\n",
       "  <thead>\n",
       "    <tr style=\"text-align: right;\">\n",
       "      <th></th>\n",
       "      <th>name</th>\n",
       "      <th>ingredients</th>\n",
       "    </tr>\n",
       "  </thead>\n",
       "  <tbody>\n",
       "    <tr>\n",
       "      <th>0</th>\n",
       "      <td>Avocado Toast with Poached Eggs</td>\n",
       "      <td>[Whole wheat bread, Mashed avocado, Poached eg...</td>\n",
       "    </tr>\n",
       "    <tr>\n",
       "      <th>1</th>\n",
       "      <td>Greek Yogurt Parfait with Granola and Berries</td>\n",
       "      <td>[Greek yogurt, Granola, Mixed berries, Honey]</td>\n",
       "    </tr>\n",
       "    <tr>\n",
       "      <th>2</th>\n",
       "      <td>Turkey Bacon and Spinach Omelette</td>\n",
       "      <td>[Eggs, Turkey bacon, Fresh spinach, Salt and p...</td>\n",
       "    </tr>\n",
       "  </tbody>\n",
       "</table>\n",
       "</div>"
      ],
      "text/plain": [
       "                                            name  \\\n",
       "0                Avocado Toast with Poached Eggs   \n",
       "1  Greek Yogurt Parfait with Granola and Berries   \n",
       "2              Turkey Bacon and Spinach Omelette   \n",
       "\n",
       "                                         ingredients  \n",
       "0  [Whole wheat bread, Mashed avocado, Poached eg...  \n",
       "1      [Greek yogurt, Granola, Mixed berries, Honey]  \n",
       "2  [Eggs, Turkey bacon, Fresh spinach, Salt and p...  "
      ]
     },
     "execution_count": 64,
     "metadata": {},
     "output_type": "execute_result"
    }
   ],
   "source": [
    "data"
   ]
  },
  {
   "cell_type": "code",
   "execution_count": null,
   "metadata": {},
   "outputs": [],
   "source": []
  }
 ],
 "metadata": {
  "kernelspec": {
   "display_name": "mealie",
   "language": "python",
   "name": "python3"
  },
  "language_info": {
   "codemirror_mode": {
    "name": "ipython",
    "version": 3
   },
   "file_extension": ".py",
   "mimetype": "text/x-python",
   "name": "python",
   "nbconvert_exporter": "python",
   "pygments_lexer": "ipython3",
   "version": "3.12.0"
  }
 },
 "nbformat": 4,
 "nbformat_minor": 2
}
